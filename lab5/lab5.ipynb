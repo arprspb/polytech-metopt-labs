{
 "cells": [
  {
   "cell_type": "code",
   "execution_count": 1,
   "id": "acf54a30-324b-4934-9187-f27df8c2fcf2",
   "metadata": {},
   "outputs": [],
   "source": [
    "import numpy as np"
   ]
  },
  {
   "cell_type": "code",
   "execution_count": 15,
   "id": "1b150e2c-56e2-43f8-9a2d-16663da239c5",
   "metadata": {},
   "outputs": [],
   "source": [
    "def objective(x):\n",
    "    \"\"\"Функция цели (вес салата)\"\"\"\n",
    "    return -(x[0] + x[1] + x[2])\n",
    "\n",
    "def penalty1(x):\n",
    "    \"\"\"Штрафная функция для ограничения 1\"\"\"\n",
    "    return max(0, 10*x[0] + x[1] + 8*x[2] - 20)\n",
    "\n",
    "def penalty2(x):\n",
    "    \"\"\"Штрафная функция для ограничения 2\"\"\"\n",
    "    return max(0, x[1] - 2*x[0])\n",
    "\n",
    "def penalty3(x):\n",
    "    \"\"\"Штрафная функция для ограничения 3\"\"\"\n",
    "    return abs(2*x[2] - x[0] - x[1])"
   ]
  },
  {
   "cell_type": "code",
   "execution_count": 16,
   "id": "5801d9b7-5bef-4443-8074-d2ea41a10bce",
   "metadata": {},
   "outputs": [],
   "source": [
    "def auxiliary_func(x, r):\n",
    "    \"\"\"Вспомогательная функция\"\"\"\n",
    "    return objective(x) + r * (penalty1(x) + penalty2(x) + penalty3(x))"
   ]
  },
  {
   "cell_type": "code",
   "execution_count": 17,
   "id": "24d9fb0a-ec59-4610-b132-7be3c23f4d52",
   "metadata": {},
   "outputs": [],
   "source": [
    "def gradient(x, r):\n",
    "    \"\"\"Градиент вспомогательной функции\"\"\"\n",
    "    grad = np.zeros(3)\n",
    "    \n",
    "    # Градиент функции цели\n",
    "    grad[0] = -1\n",
    "    grad[1] = -1\n",
    "    grad[2] = -1\n",
    "    \n",
    "    # Градиент штрафной функции 1\n",
    "    if 10*x[0] + x[1] + 8*x[2] - 20 > 0:\n",
    "        grad[0] += 10*r\n",
    "        grad[1] += r\n",
    "        grad[2] += 8*r\n",
    "    \n",
    "    # Градиент штрафной функции 2 \n",
    "    if x[1] - 2*x[0] > 0:\n",
    "        grad[0] -= 2*r\n",
    "        grad[1] += r\n",
    "    \n",
    "    # Градиент штрафной функции 3\n",
    "    if 2*x[2] - x[0] - x[1] > 0:\n",
    "        grad[0] -= r\n",
    "        grad[1] -= r\n",
    "        grad[2] += 2*r\n",
    "    elif 2*x[2] - x[0] - x[1] < 0:\n",
    "        grad[0] += r\n",
    "        grad[1] += r\n",
    "        grad[2] -= 2*r\n",
    "    \n",
    "    return grad"
   ]
  },
  {
   "cell_type": "code",
   "execution_count": 20,
   "id": "73934c29-8f5a-4fed-b484-cd6230bf715a",
   "metadata": {},
   "outputs": [],
   "source": [
    "def steepest_descent(x0, r, eps=1e-6, max_iter=10000):\n",
    "    \"\"\"Метод наискорейшего спуска\"\"\"\n",
    "    x = x0.astype(np.float64)  # Преобразование x в float64\n",
    "    for i in range(max_iter):\n",
    "        grad = gradient(x, r)\n",
    "        if np.linalg.norm(grad) < eps:\n",
    "            break\n",
    "        \n",
    "        # Выбор шага методом дробления\n",
    "        alpha = 1\n",
    "        while auxiliary_func(x - alpha*grad, r) >= auxiliary_func(x, r) - 0.5*alpha*np.linalg.norm(grad)**2:\n",
    "            alpha /= 2\n",
    "        \n",
    "        x_new = x - alpha * grad  # Переменная для новой точки\n",
    "        if np.linalg.norm(x - x_new) < eps:  # Проверка изменения x\n",
    "            break\n",
    "        x = x_new\n",
    "    \n",
    "    return x\n"
   ]
  },
  {
   "cell_type": "code",
   "execution_count": 21,
   "id": "85f37c5d-130b-453d-a212-f6ac393ac57e",
   "metadata": {},
   "outputs": [
    {
     "name": "stdout",
     "output_type": "stream",
     "text": [
      "10\n",
      "Решение для eps=0.1: x=[1. 1. 1.], f(x)=-3.0\n",
      "10\n",
      "Решение для eps=0.01: x=[1.046875 1.046875 1.046875], f(x)=-3.140625\n",
      "10\n",
      "Решение для eps=0.001: x=[1.05273438 1.05273438 1.05273438], f(x)=-3.158203125\n"
     ]
    }
   ],
   "source": [
    "# Параметры задачи\n",
    "x0 = np.array([0, 0, 0])  # Начальная точка\n",
    "r0 = 1  # Начальный штраф\n",
    "beta = 10  # Коэффициент увеличения штрафа\n",
    "eps_list = [1e-1, 1e-2, 1e-3]  # Список точностей\n",
    "\n",
    "# Решение задачи для разных точностей\n",
    "for eps in eps_list:\n",
    "    r = r0\n",
    "    x = x0\n",
    "    for i in range(20):\n",
    "        x_new = steepest_descent(x, r, eps)\n",
    "        if np.linalg.norm(x_new - x) < eps:\n",
    "            break\n",
    "        x = x_new\n",
    "        r *= beta\n",
    "        print(r)\n",
    "    \n",
    "    print(f\"Решение для eps={eps}: x={x}, f(x)={objective(x)}\")"
   ]
  },
  {
   "cell_type": "code",
   "execution_count": null,
   "id": "1dfe29a9-f0d6-45bd-98da-faea0ff5fe91",
   "metadata": {},
   "outputs": [],
   "source": []
  }
 ],
 "metadata": {
  "kernelspec": {
   "display_name": "Python 3 (ipykernel)",
   "language": "python",
   "name": "python3"
  },
  "language_info": {
   "codemirror_mode": {
    "name": "ipython",
    "version": 3
   },
   "file_extension": ".py",
   "mimetype": "text/x-python",
   "name": "python",
   "nbconvert_exporter": "python",
   "pygments_lexer": "ipython3",
   "version": "3.11.8"
  }
 },
 "nbformat": 4,
 "nbformat_minor": 5
}
