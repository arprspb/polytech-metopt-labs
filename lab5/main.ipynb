{
 "cells": [
  {
   "cell_type": "code",
   "execution_count": 5,
   "id": "acf54a30-324b-4934-9187-f27df8c2fcf2",
   "metadata": {},
   "outputs": [],
   "source": [
    "import numpy as np\n",
    "from utils import Func"
   ]
  },
  {
   "cell_type": "code",
   "execution_count": 44,
   "id": "1b150e2c-56e2-43f8-9a2d-16663da239c5",
   "metadata": {},
   "outputs": [],
   "source": [
    "def objective(x):\n",
    "    \"\"\"Функция цели (вес салата)\"\"\"\n",
    "    return -(x[0] + x[1] + x[2])\n",
    "\n",
    "objective = Func(lambda x: -(x[0] + x[1] + x[2]), \n",
    "                 lambda x: np.array((-1, -1, -1)))\n",
    "\n",
    "penalty1 = Func(lambda x: max(0, 10*x[0] + x[1] + 8*x[2] - 20), \n",
    "                lambda x: np.array((10, 1, 8)) if 10*x[0] + x[1] + 8*x[2] - 20 >= 0 else np.array((0,0,0)))\n",
    "\n",
    "penalty2 = Func(lambda x: max(0, -2*x[0] + x[1] ),\n",
    "                lambda x: np.array((-2, 1, 0)) if -2*x[0] + x[1] >= 0 else np.array((0,0,0)))\n",
    "\n",
    "def penalty_3_grad(x):\n",
    "    if -x[0] -x[1] + 2*x[2] >= 0:\n",
    "        return np.array((-1, -1, 2))\n",
    "    elif -x[0] -x[1] + 2*x[2] < 0:\n",
    "        return np.array((1, 1, -2))\n",
    "\n",
    "penalty3 = Func(lambda x: abs(2*x[2] - x[0] - x[1]),\n",
    "                penalty_3_grad)"
   ]
  },
  {
   "cell_type": "code",
   "execution_count": 45,
   "id": "5801d9b7-5bef-4443-8074-d2ea41a10bce",
   "metadata": {},
   "outputs": [],
   "source": [
    "def auxiliary_func_call(x, r):\n",
    "    \"\"\"Вспомогательная функция\"\"\"\n",
    "    return objective(x) + r * (penalty1(x) + penalty2(x) + penalty3(x))\n",
    "\n",
    "def auxiliary_func_grad(x, r):\n",
    "    \"\"\"Вспомогательная функция\"\"\"\n",
    "    return objective.grad(x) + r * (penalty1.grad(x) + penalty2.grad(x) + penalty3.grad(x))\n",
    "\n",
    "auxiliary_func = Func(auxiliary_func_call, auxiliary_func_grad)"
   ]
  },
  {
   "cell_type": "code",
   "execution_count": 46,
   "id": "76bac040",
   "metadata": {},
   "outputs": [
    {
     "data": {
      "text/plain": [
       "array([44, 14, 29])"
      ]
     },
     "execution_count": 46,
     "metadata": {},
     "output_type": "execute_result"
    }
   ],
   "source": [
    "auxiliary_func.grad((2,5,1), 5)"
   ]
  },
  {
   "cell_type": "code",
   "execution_count": 56,
   "id": "73934c29-8f5a-4fed-b484-cd6230bf715a",
   "metadata": {},
   "outputs": [],
   "source": [
    "def steepest_descent(x0, r, eps=1e-6, max_iter=10000):\n",
    "    \"\"\"Метод наискорейшего спуска\"\"\"\n",
    "    x = np.array(x0).astype(np.float64)  # Преобразование x в float64\n",
    "    for i in range(max_iter):\n",
    "        grad = auxiliary_func.grad(x, r).astype(np.float64)\n",
    "        if np.linalg.norm(grad) < eps:\n",
    "            break\n",
    "        \n",
    "        # Выбор шага методом дробления\n",
    "        alpha = 1\n",
    "        while auxiliary_func(x - alpha*grad, r) -  auxiliary_func(x, r) > -0.5 * alpha * np.dot(-grad,grad):\n",
    "            alpha /= 2\n",
    "        \n",
    "        x_new = x - alpha * grad  # Переменная для новой точки\n",
    "\n",
    "        x = x_new\n",
    "        r = r * 2\n",
    "    \n",
    "    return x\n"
   ]
  },
  {
   "cell_type": "code",
   "execution_count": 57,
   "id": "1dfe29a9-f0d6-45bd-98da-faea0ff5fe91",
   "metadata": {},
   "outputs": [
    {
     "name": "stderr",
     "output_type": "stream",
     "text": [
      "/tmp/ipykernel_2516924/3387058238.py:3: RuntimeWarning: overflow encountered in multiply\n",
      "  return objective(x) + r * (penalty1(x) + penalty2(x) + penalty3(x))\n",
      "/tmp/ipykernel_2516924/3459289642.py:11: RuntimeWarning: invalid value encountered in scalar subtract\n",
      "  while auxiliary_func(x - alpha*grad, r) -  auxiliary_func(x, r) > -0.5 * alpha * np.dot(-grad,grad):\n",
      "/tmp/ipykernel_2516924/1763431698.py:8: RuntimeWarning: overflow encountered in scalar multiply\n",
      "  penalty1 = Func(lambda x: max(0, 10*x[0] + x[1] + 8*x[2] - 20),\n",
      "/tmp/ipykernel_2516924/1763431698.py:9: RuntimeWarning: overflow encountered in scalar multiply\n",
      "  lambda x: np.array((10, 1, 8)) if 10*x[0] + x[1] + 8*x[2] - 20 >= 0 else np.array((0,0,0)))\n",
      "/tmp/ipykernel_2516924/1763431698.py:8: RuntimeWarning: invalid value encountered in scalar add\n",
      "  penalty1 = Func(lambda x: max(0, 10*x[0] + x[1] + 8*x[2] - 20),\n",
      "/tmp/ipykernel_2516924/1763431698.py:20: RuntimeWarning: overflow encountered in scalar subtract\n",
      "  penalty3 = Func(lambda x: abs(2*x[2] - x[0] - x[1]),\n",
      "/tmp/ipykernel_2516924/1763431698.py:9: RuntimeWarning: invalid value encountered in scalar add\n",
      "  lambda x: np.array((10, 1, 8)) if 10*x[0] + x[1] + 8*x[2] - 20 >= 0 else np.array((0,0,0)))\n",
      "/tmp/ipykernel_2516924/1763431698.py:15: RuntimeWarning: overflow encountered in scalar add\n",
      "  if -x[0] -x[1] + 2*x[2] >= 0:\n",
      "/tmp/ipykernel_2516924/1763431698.py:17: RuntimeWarning: overflow encountered in scalar add\n",
      "  elif -x[0] -x[1] + 2*x[2] < 0:\n"
     ]
    },
    {
     "ename": "OverflowError",
     "evalue": "int too large to convert to float",
     "output_type": "error",
     "traceback": [
      "\u001b[0;31m---------------------------------------------------------------------------\u001b[0m",
      "\u001b[0;31mOverflowError\u001b[0m                             Traceback (most recent call last)",
      "Cell \u001b[0;32mIn[57], line 1\u001b[0m\n\u001b[0;32m----> 1\u001b[0m \u001b[43msteepest_descent\u001b[49m\u001b[43m(\u001b[49m\u001b[43m[\u001b[49m\u001b[38;5;241;43m-\u001b[39;49m\u001b[38;5;241;43m5\u001b[39;49m\u001b[43m,\u001b[49m\u001b[38;5;241;43m-\u001b[39;49m\u001b[38;5;241;43m1\u001b[39;49m\u001b[43m,\u001b[49m\u001b[38;5;241;43m-\u001b[39;49m\u001b[38;5;241;43m7\u001b[39;49m\u001b[43m]\u001b[49m\u001b[43m,\u001b[49m\u001b[43m \u001b[49m\u001b[38;5;241;43m1\u001b[39;49m\u001b[43m)\u001b[49m\n",
      "Cell \u001b[0;32mIn[56], line 5\u001b[0m, in \u001b[0;36msteepest_descent\u001b[0;34m(x0, r, eps, max_iter)\u001b[0m\n\u001b[1;32m      3\u001b[0m x \u001b[38;5;241m=\u001b[39m np\u001b[38;5;241m.\u001b[39marray(x0)\u001b[38;5;241m.\u001b[39mastype(np\u001b[38;5;241m.\u001b[39mfloat64)  \u001b[38;5;66;03m# Преобразование x в float64\u001b[39;00m\n\u001b[1;32m      4\u001b[0m \u001b[38;5;28;01mfor\u001b[39;00m i \u001b[38;5;129;01min\u001b[39;00m \u001b[38;5;28mrange\u001b[39m(max_iter):\n\u001b[0;32m----> 5\u001b[0m     grad \u001b[38;5;241m=\u001b[39m \u001b[43mauxiliary_func\u001b[49m\u001b[38;5;241;43m.\u001b[39;49m\u001b[43mgrad\u001b[49m\u001b[43m(\u001b[49m\u001b[43mx\u001b[49m\u001b[43m,\u001b[49m\u001b[43m \u001b[49m\u001b[43mr\u001b[49m\u001b[43m)\u001b[49m\u001b[38;5;241;43m.\u001b[39;49m\u001b[43mastype\u001b[49m\u001b[43m(\u001b[49m\u001b[43mnp\u001b[49m\u001b[38;5;241;43m.\u001b[39;49m\u001b[43mfloat64\u001b[49m\u001b[43m)\u001b[49m\n\u001b[1;32m      6\u001b[0m     \u001b[38;5;28;01mif\u001b[39;00m np\u001b[38;5;241m.\u001b[39mlinalg\u001b[38;5;241m.\u001b[39mnorm(grad) \u001b[38;5;241m<\u001b[39m eps:\n\u001b[1;32m      7\u001b[0m         \u001b[38;5;28;01mbreak\u001b[39;00m\n",
      "\u001b[0;31mOverflowError\u001b[0m: int too large to convert to float"
     ]
    }
   ],
   "source": [
    "steepest_descent([-5,-1,-7], 1)"
   ]
  },
  {
   "cell_type": "code",
   "execution_count": 54,
   "id": "75d76d5b",
   "metadata": {},
   "outputs": [
    {
     "data": {
      "text/plain": [
       "array([-2, -2,  1])"
      ]
     },
     "execution_count": 54,
     "metadata": {},
     "output_type": "execute_result"
    }
   ],
   "source": [
    "auxiliary_func.grad(np.array([1,1,1]),1)"
   ]
  },
  {
   "cell_type": "code",
   "execution_count": null,
   "id": "019edcda",
   "metadata": {},
   "outputs": [],
   "source": []
  }
 ],
 "metadata": {
  "kernelspec": {
   "display_name": "Python 3 (ipykernel)",
   "language": "python",
   "name": "python3"
  },
  "language_info": {
   "codemirror_mode": {
    "name": "ipython",
    "version": 3
   },
   "file_extension": ".py",
   "mimetype": "text/x-python",
   "name": "python",
   "nbconvert_exporter": "python",
   "pygments_lexer": "ipython3",
   "version": "3.10.12"
  }
 },
 "nbformat": 4,
 "nbformat_minor": 5
}
