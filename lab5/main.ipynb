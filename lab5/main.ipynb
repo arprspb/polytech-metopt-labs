{
 "cells": [
  {
   "cell_type": "code",
   "execution_count": 5,
   "id": "acf54a30-324b-4934-9187-f27df8c2fcf2",
   "metadata": {},
   "outputs": [],
   "source": [
    "import numpy as np\n",
    "from utils import Func"
   ]
  },
  {
   "cell_type": "code",
   "execution_count": 27,
   "id": "1b150e2c-56e2-43f8-9a2d-16663da239c5",
   "metadata": {},
   "outputs": [],
   "source": [
    "def objective(x):\n",
    "    \"\"\"Функция цели (вес салата)\"\"\"\n",
    "    return -(x[0] + x[1] + x[2])\n",
    "\n",
    "objective = Func(lambda x: -(x[0] + x[1] + x[2]), \n",
    "                 lambda x: np.array((-1, -1, -1)))\n",
    "\n",
    "penalty1 = Func(lambda x: max(0, 10*x[0] + x[1] + 8*x[2] - 20), \n",
    "                lambda x: np.array((10, 1, 8)) if 10*x[0] + x[1] + 8*x[2] - 20 > 0 else np.array((0,0,0)))\n",
    "\n",
    "penalty2 = Func(lambda x: max(0, -2*x[0] + x[1] ),\n",
    "                lambda x: np.array((-2, 1, 0)) if -2*x[0] + x[1] > 0 else np.array((0,0,0)))\n",
    "\n",
    "def penalty_3_grad(x):\n",
    "    if -x[0] -x[1] + 2*x[2] > 0:\n",
    "        return np.array((-1, -1, 2))\n",
    "    elif -x[0] -x[1] + 2*x[2] < 0:\n",
    "        return np.array((1, 1, -2))\n",
    "    return np.array((0,0,0))\n",
    "\n",
    "penalty3 = Func(lambda x: abs(2*x[2] - x[0] - x[1]),\n",
    "                penalty_3_grad)"
   ]
  },
  {
   "cell_type": "code",
   "execution_count": 28,
   "id": "5801d9b7-5bef-4443-8074-d2ea41a10bce",
   "metadata": {},
   "outputs": [],
   "source": [
    "def auxiliary_func_call(x, r):\n",
    "    \"\"\"Вспомогательная функция\"\"\"\n",
    "    return objective(x) + r * (penalty1(x) + penalty2(x) + penalty3(x))\n",
    "\n",
    "def auxiliary_func_grad(x, r):\n",
    "    \"\"\"Вспомогательная функция\"\"\"\n",
    "    return objective.grad(x) + r * (penalty1.grad(x) + penalty2.grad(x) + penalty3.grad(x))\n",
    "\n",
    "auxiliary_func = Func(auxiliary_func_call, auxiliary_func_grad)"
   ]
  },
  {
   "cell_type": "code",
   "execution_count": 31,
   "id": "76bac040",
   "metadata": {},
   "outputs": [
    {
     "data": {
      "text/plain": [
       "array([44, 14, 29])"
      ]
     },
     "execution_count": 31,
     "metadata": {},
     "output_type": "execute_result"
    }
   ],
   "source": [
    "auxiliary_func.grad((2,5,1), 5)"
   ]
  },
  {
   "cell_type": "code",
   "execution_count": 20,
   "id": "73934c29-8f5a-4fed-b484-cd6230bf715a",
   "metadata": {},
   "outputs": [],
   "source": [
    "def steepest_descent(x0, r, eps=1e-6, max_iter=10000):\n",
    "    \"\"\"Метод наискорейшего спуска\"\"\"\n",
    "    x = x0.astype(np.float64)  # Преобразование x в float64\n",
    "    for i in range(max_iter):\n",
    "        grad = gradient(x, r)\n",
    "        if np.linalg.norm(grad) < eps:\n",
    "            break\n",
    "        \n",
    "        # Выбор шага методом дробления\n",
    "        alpha = 1\n",
    "        while auxiliary_func(x - alpha*grad, r) >= auxiliary_func(x, r) - 0.5*alpha*np.linalg.norm(grad)**2:\n",
    "            alpha /= 2\n",
    "        \n",
    "        x_new = x - alpha * grad  # Переменная для новой точки\n",
    "        if np.linalg.norm(x - x_new) < eps:  # Проверка изменения x\n",
    "            break\n",
    "        x = x_new\n",
    "    \n",
    "    return x\n"
   ]
  },
  {
   "cell_type": "code",
   "execution_count": null,
   "id": "1dfe29a9-f0d6-45bd-98da-faea0ff5fe91",
   "metadata": {},
   "outputs": [],
   "source": []
  }
 ],
 "metadata": {
  "kernelspec": {
   "display_name": "Python 3 (ipykernel)",
   "language": "python",
   "name": "python3"
  },
  "language_info": {
   "codemirror_mode": {
    "name": "ipython",
    "version": 3
   },
   "file_extension": ".py",
   "mimetype": "text/x-python",
   "name": "python",
   "nbconvert_exporter": "python",
   "pygments_lexer": "ipython3",
   "version": "3.10.12"
  }
 },
 "nbformat": 4,
 "nbformat_minor": 5
}
