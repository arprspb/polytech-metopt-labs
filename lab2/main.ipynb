{
 "cells": [
  {
   "cell_type": "markdown",
   "metadata": {},
   "source": [
    "# Лабораторная №2\n",
    "## Задание\n",
    "\n",
    "1. Решить транспортную задачу методом потенциалов с выбором начального приближения методом Северо-Западного угла\n",
    "   \n",
    "2. Решить ту же задачу симплекс методом\n",
    "   \n",
    "3. Предусмотреть наличие штрафа за недопоставку, пропорционального её величине (разный штраф у разных потребителей), получить из исходной \"подправив\".\n",
    "\n",
    "<table border=\"1\">\n",
    "  <tr>\n",
    "    <td><span style=\"font-weight:bold\">34</span></td>\n",
    "    <td>5</td>\n",
    "    <td>8</td>\n",
    "    <td>10</td>\n",
    "    <td>8</td>\n",
    "    <td>12</td>\n",
    "  </tr>\n",
    "  <tr>\n",
    "    <td><span style=\"font-weight:bold\">14</span></td>\n",
    "    <td>12</td>\n",
    "    <td>7</td>\n",
    "    <td>13</td>\n",
    "    <td>18</td>\n",
    "    <td>23</td>\n",
    "  </tr>\n",
    "  <tr>\n",
    "    <td><span style=\"font-weight:bold\">16</span></td>\n",
    "    <td>7</td>\n",
    "    <td>3</td>\n",
    "    <td>9</td>\n",
    "    <td>11</td>\n",
    "    <td>16</td>\n",
    "  </tr>\n",
    "  <tr>\n",
    "    <td><span style=\"font-weight:bold\">15</span></td>\n",
    "    <td>9</td>\n",
    "    <td>6</td>\n",
    "    <td>19</td>\n",
    "    <td>13</td>\n",
    "    <td>14</td>\n",
    "  </tr>\n",
    "  <tr>\n",
    "    <td></td>\n",
    "    <td><span style=\"font-weight:bold\">12</span></td>\n",
    "    <td><span style=\"font-weight:bold\">15</span></td>\n",
    "    <td><span style=\"font-weight:bold\">27</span></td>\n",
    "    <td><span style=\"font-weight:bold\">6</span></td>\n",
    "    <td><span style=\"font-weight:bold\">19</span></td>\n",
    "  </tr>\n",
    "</table>"
   ]
  },
  {
   "cell_type": "markdown",
   "metadata": {},
   "source": [
    "# Решение"
   ]
  },
  {
   "cell_type": "markdown",
   "metadata": {},
   "source": []
  }
 ],
 "metadata": {
  "language_info": {
   "name": "python"
  }
 },
 "nbformat": 4,
 "nbformat_minor": 2
}
